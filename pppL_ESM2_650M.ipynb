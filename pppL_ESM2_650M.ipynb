{
 "cells": [
  {
   "metadata": {},
   "cell_type": "markdown",
   "source": [
    "# ESM2 Protein Sequence Likelihood Calculator\n",
    "\n",
    "This notebook computes the per-position pseudo-log-likelihood (PPPL) for protein sequences using the ESM2 language model. It can process either a single sequence or multiple sequences from a CSV file.\n",
    "\n",
    "## How to use:\n",
    "\n",
    "1. For a single sequence:\n",
    "   - Set the `sequence` variable in the cell below.\n",
    "   - Run all cells.\n",
    "\n",
    "2. For multiple sequences in a CSV file:\n",
    "   - Set the `input_csv` variable in the cell below.\n",
    "   - Optionally set `output_csv`, `num_sequences`, and other parameters.\n",
    "   - Run all cells.\n",
    "\n",
    "Note: Ensure your input CSV file has a column named \"sequence\" containing the protein sequences."
   ],
   "id": "db45f1017348793b"
  },
  {
   "cell_type": "code",
   "id": "initial_id",
   "metadata": {
    "collapsed": true
   },
   "source": [
    "import argparse\n",
    "from tqdm import tqdm\n",
    "import pandas as pd\n",
    "import torch\n",
    "\n",
    "# For notebook use, we'll set default values instead of using argparse\n",
    "max_length = 1022\n",
    "model = \"ESM2_650M\"\n",
    "num_sequences = None\n",
    "skip_nham_aa = False\n",
    "\n",
    "# Uncomment and modify these lines to set your parameters\n",
    "# sequence = \"TEYKLVVVGAGGVGKSALTIQLIQNHFVDEYDPTIEDSYRKQVVIDGETCLLDILDTAGQEEYSAMRDQYMRTGEGFLCVFAINNTKSFEDIHHYREQIKRVKDSEDVPMVLVGNKCDLPSRTVDTKQAQDLARSYGIPFIETSAKTRQGVDDAFYTLVREIRKHKEKMSKDGKKKKKKSKTKCVIM\"\n",
    "input_csv = \"KRAS_data/KRAS_data_BindingPCA_DARPin_K55_muts.csv\"\n",
    "output_csv = \"PCA_DARP_in_K55_pLLs.csv\"\n",
    "model = \"ESM2_650M\"\n",
    "num_sequences = 100"
   ],
   "outputs": [],
   "execution_count": null
  },
  {
   "metadata": {},
   "cell_type": "code",
   "source": [
    "def determine_esm_details(model_name):\n",
    "    if model_name == \"ESM2_15B\":\n",
    "        return \"esm2_t48_15B_UR50D\"\n",
    "    elif model_name == \"ESM2_3B\":\n",
    "        return \"esm2_t36_3B_UR50D\"\n",
    "    elif model_name == \"ESM2_650M\":\n",
    "        return \"esm2_t33_650M_UR50D\"\n",
    "    else:\n",
    "        raise ValueError(f\"Unknown model: {model_name}\")"
   ],
   "id": "17692b75c6c64077",
   "outputs": [],
   "execution_count": null
  },
  {
   "metadata": {},
   "cell_type": "code",
   "source": [
    "def rename_column_to_sequence(df, original_column_name):\n",
    "    df.rename(columns={original_column_name: \"sequence\"}, inplace=True)\n",
    "    return df"
   ],
   "id": "6ab85f5cf2c320a4",
   "outputs": [],
   "execution_count": null
  },
  {
   "metadata": {},
   "cell_type": "code",
   "source": [
    "# Load the model\n",
    "model_name = model\n",
    "model_details = determine_esm_details(model_name)\n",
    "\n",
    "print(f\"==> Loading model {model_name}\")\n",
    "model, alphabet = torch.hub.load(\"facebookresearch/esm:main\", model_details)\n",
    "batch_converter = alphabet.get_batch_converter()\n",
    "model.eval()\n",
    "\n",
    "device = torch.device(\"cuda\" if torch.cuda.is_available() else \"cpu\")\n",
    "model = model.to(device)\n",
    "print(f\"Using device: {device}\")"
   ],
   "id": "232089f0f01899e9",
   "outputs": [],
   "execution_count": null
  },
  {
   "metadata": {},
   "cell_type": "code",
   "source": [
    "def compute_pppl(sequence, verbose=False):\n",
    "    with torch.no_grad():\n",
    "        data = [(\"protein1\", sequence)]\n",
    "        batch_labels, batch_strs, batch_tokens = batch_converter(data)\n",
    "        batch_tokens = batch_tokens.to(device)\n",
    "        if verbose:\n",
    "            print(batch_tokens)\n",
    "\n",
    "        # compute probabilities at each position\n",
    "        log_probs = []\n",
    "        for i in range(1, len(sequence) + 1):\n",
    "            batch_tokens_masked = batch_tokens.clone()\n",
    "            batch_tokens_masked[0, i] = alphabet.mask_idx\n",
    "            if verbose:\n",
    "                print(batch_tokens_masked)\n",
    "            with torch.no_grad():\n",
    "                outputs = model(batch_tokens_masked, repr_layers=[33], return_contacts=False)\n",
    "                token_probs = torch.log_softmax(outputs[\"logits\"], dim=-1)\n",
    "                if verbose:\n",
    "                    print(token_probs)\n",
    "            log_probs.append(token_probs[0, i, alphabet.get_idx(sequence[i - 1])].item())  # vocab size\n",
    "        if verbose:\n",
    "            print(log_probs)\n",
    "        return sum(log_probs) / len(sequence)"
   ],
   "id": "f4a8675a32968e74",
   "outputs": [],
   "execution_count": null
  },
  {
   "metadata": {},
   "cell_type": "code",
   "source": [
    "# Process single sequence\n",
    "if sequence:\n",
    "    print(f\"Computing likelihood for single sequence: {sequence}\")\n",
    "    pppl = compute_pppl(sequence, verbose=True)\n",
    "    print(f\"PPPL: {pppl}\")\n",
    "\n",
    "# Process multiple sequences from CSV\n",
    "elif input_csv:\n",
    "    df = pd.read_csv(input_csv)\n",
    "    if \"sequence\" not in df.columns:\n",
    "        raise ValueError(\"Input CSV must contain a 'sequence' column\")\n",
    "\n",
    "    ll_list = []\n",
    "    for i, row in enumerate(tqdm(df.itertuples(), total=len(df))):\n",
    "        seq = getattr(row, \"sequence\")\n",
    "        nham_aa = getattr(row, \"Nham_aa\", None)\n",
    "\n",
    "        if '*' in seq:\n",
    "            continue\n",
    "        if skip_nham_aa and nham_aa != 1:\n",
    "            continue\n",
    "        if num_sequences is not None and i >= num_sequences:\n",
    "            break\n",
    "\n",
    "        this_pppl = compute_pppl(seq[:max_length])\n",
    "        ll_list.append(this_pppl)\n",
    "\n",
    "    df = df.iloc[:len(ll_list)]\n",
    "    df[f\"{model}_pppl\"] = ll_list\n",
    "    df.to_csv(output_csv, index=False)\n",
    "    print(f\"Done. Output saved to {output_csv}\")\n",
    "else:\n",
    "    print(\"Please provide either a sequence or an input CSV file.\")"
   ],
   "id": "a700bcae8e535bb",
   "outputs": [],
   "execution_count": null
  },
  {
   "metadata": {},
   "cell_type": "markdown",
   "source": [
    "## Next Steps\n",
    "\n",
    "- Analyze the results in the output CSV file.\n",
    "- Visualize the PPPL scores if working with multiple sequences.\n",
    "- Compare PPPL scores across different protein variants or families."
   ],
   "id": "3b22a812e259fd62"
  }
 ],
 "metadata": {
  "kernelspec": {
   "display_name": "Python 3",
   "language": "python",
   "name": "python3"
  },
  "language_info": {
   "codemirror_mode": {
    "name": "ipython",
    "version": 2
   },
   "file_extension": ".py",
   "mimetype": "text/x-python",
   "name": "python",
   "nbconvert_exporter": "python",
   "pygments_lexer": "ipython2",
   "version": "2.7.6"
  }
 },
 "nbformat": 4,
 "nbformat_minor": 5
}
